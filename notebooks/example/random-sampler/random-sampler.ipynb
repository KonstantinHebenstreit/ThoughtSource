{
 "cells": [
  {
   "cell_type": "code",
   "execution_count": 1,
   "id": "0b410b12-370e-48f5-9a93-9f7821ed847e",
   "metadata": {},
   "outputs": [],
   "source": [
    "from dataloader import Collection\n",
    "from dataloader import stats\n",
    "from cot.generate import generate_and_extract, TEMPLATES\n",
    "from cot.evaluate import evaluate\n",
    "from pprint import pprint"
   ]
  },
  {
   "cell_type": "markdown",
   "id": "bb5ec6ef-31a1-41f6-98df-ca1df05a5a25",
   "metadata": {},
   "source": [
    "# Random Sampling from Datasets"
   ]
  },
  {
   "cell_type": "code",
   "execution_count": 3,
   "id": "6a3bc2e7-f4f6-434b-8722-609b55fe0c0f",
   "metadata": {},
   "outputs": [
    {
     "name": "stdout",
     "output_type": "stream",
     "text": [
      "Loading worldtree...\n",
      "| Name      |   Train |   Valid |   Test |\n",
      "|-----------|---------|---------|--------|\n",
      "| worldtree |    2207 |     496 |   1664 |\n",
      "\n",
      "Not loaded: ['aqua', 'asdiv', 'commonsense_qa', 'entailment_bank', 'gsm8k', 'mawps', 'open_book_qa', 'qed', 'strategy_qa', 'svamp']\n"
     ]
    }
   ],
   "source": [
    "# load datasets to sample from\n",
    "collection = Collection([\"worldtree\"], verbose=False)\n",
    "print(collection)"
   ]
  },
  {
   "cell_type": "code",
   "execution_count": 4,
   "id": "379dde04-6d68-4ca0-a7b2-0a2eb552686a",
   "metadata": {},
   "outputs": [],
   "source": [
    "# define number of random samples per dataset\n",
    "number_of_samples = 100\n",
    "\n",
    "# define subset to sample from (train/validation/test)\n",
    "subset_name = 'train'\n",
    "\n",
    "# set seed for reproducibility\n",
    "seed = True"
   ]
  },
  {
   "cell_type": "code",
   "execution_count": 5,
   "id": "cb5cd82e-7072-4e3c-90a3-6f1136383741",
   "metadata": {},
   "outputs": [],
   "source": [
    "import random\n",
    "import copy\n",
    "\n",
    "random_sampled_collection = copy.deepcopy(collection)\n",
    "\n",
    "for dataset in random_sampled_collection:\n",
    "    _ , dataset_dict = dataset\n",
    "    subset = copy.deepcopy(dataset_dict[subset_name])\n",
    "    #get number of samples in subset\n",
    "    samples_count = subset.num_rows\n",
    "    # set seed for reproducibility\n",
    "    if seed:\n",
    "        random.seed(0)\n",
    "    random_ids = random.sample(range(samples_count), number_of_samples)\n",
    "    # sample from subset\n",
    "    random_subset = subset.select(random_ids)\n",
    "    # clear original dictionary\n",
    "    dataset_dict.clear()\n",
    "    # reinsert selected samples\n",
    "    dataset_dict[subset_name] = random_subset\n",
    "    "
   ]
  },
  {
   "cell_type": "code",
   "execution_count": 6,
   "id": "b3295f79-9422-4060-b0bc-79b511523e4f",
   "metadata": {},
   "outputs": [
    {
     "data": {
      "text/plain": [
       "| Name      |   Train | Valid   | Test   |\n",
       "|-----------|---------|---------|--------|\n",
       "| worldtree |     100 | -       | -      |\n",
       "\n",
       "Not loaded: ['aqua', 'asdiv', 'commonsense_qa', 'entailment_bank', 'gsm8k', 'mawps', 'open_book_qa', 'qed', 'strategy_qa', 'svamp']"
      ]
     },
     "execution_count": 6,
     "metadata": {},
     "output_type": "execute_result"
    }
   ],
   "source": [
    "random_sampled_collection"
   ]
  },
  {
   "cell_type": "code",
   "execution_count": 7,
   "id": "b305a383-9954-401b-91a5-6ab081e1ef26",
   "metadata": {},
   "outputs": [],
   "source": [
    "# save the collection to json files\n",
    "random_sampled_collection.dump()"
   ]
  }
 ],
 "metadata": {
  "kernelspec": {
   "display_name": "Python 3 (ipykernel)",
   "language": "python",
   "name": "python3"
  },
  "language_info": {
   "codemirror_mode": {
    "name": "ipython",
    "version": 3
   },
   "file_extension": ".py",
   "mimetype": "text/x-python",
   "name": "python",
   "nbconvert_exporter": "python",
   "pygments_lexer": "ipython3",
   "version": "3.8.10"
  },
  "vscode": {
   "interpreter": {
    "hash": "a19cb823e24c98ee05a9cfa4a3a579b5d56d4c1a735f2a12456750b95a1e155e"
   }
  }
 },
 "nbformat": 4,
 "nbformat_minor": 5
}
